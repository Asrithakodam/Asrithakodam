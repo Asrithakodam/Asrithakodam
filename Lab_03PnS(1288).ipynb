{
  "nbformat": 4,
  "nbformat_minor": 0,
  "metadata": {
    "colab": {
      "provenance": [],
      "include_colab_link": true
    },
    "kernelspec": {
      "name": "python3",
      "display_name": "Python 3"
    },
    "language_info": {
      "name": "python"
    }
  },
  "cells": [
    {
      "cell_type": "markdown",
      "metadata": {
        "id": "view-in-github",
        "colab_type": "text"
      },
      "source": [
        "<a href=\"https://colab.research.google.com/github/Asrithakodam/Asrithakodam/blob/main/Lab_03PnS(1288).ipynb\" target=\"_parent\"><img src=\"https://colab.research.google.com/assets/colab-badge.svg\" alt=\"Open In Colab\"/></a>"
      ]
    },
    {
      "cell_type": "code",
      "source": [
        "import numpy as np\n",
        "import pandas as pd\n",
        "data = [12, 45, 67, 23, 45, 89, 45, 12, 33, 67, 67, 78, 45, 23, 23, 56, 89, 45, 33, 4]\n",
        "median_numpy = np.median(data)\n",
        "mode_pandas = pd.Series(data).mode()[0]"
      ],
      "metadata": {
        "id": "PG4NMObkBwfJ"
      },
      "execution_count": null,
      "outputs": []
    },
    {
      "cell_type": "code",
      "source": [
        "print(median_numpy)"
      ],
      "metadata": {
        "colab": {
          "base_uri": "https://localhost:8080/"
        },
        "id": "fEyfXjdVB25O",
        "outputId": "1556908c-eee7-4975-a19c-9dd724fd8806"
      },
      "execution_count": null,
      "outputs": [
        {
          "output_type": "stream",
          "name": "stdout",
          "text": [
            "45.0\n"
          ]
        }
      ]
    },
    {
      "cell_type": "code",
      "source": [
        "print(mode_pandas)"
      ],
      "metadata": {
        "colab": {
          "base_uri": "https://localhost:8080/"
        },
        "id": "vuHhP91qB9NJ",
        "outputId": "c1bc3cdd-d9dd-4a97-fcac-6bb925f184d5"
      },
      "execution_count": null,
      "outputs": [
        {
          "output_type": "stream",
          "name": "stdout",
          "text": [
            "45\n"
          ]
        }
      ]
    },
    {
      "cell_type": "code",
      "source": [
        "data = [10, 20, 30, 40, 50]\n",
        "freq = [5, 8, 12, 15, 7]\n",
        "df = pd.DataFrame({'Data': data, 'Frequency': freq})\n",
        "median = np.median(df['Data'])\n",
        "mode = df['Data'].mode()[0]"
      ],
      "metadata": {
        "id": "jTNwbqDDF0Kf"
      },
      "execution_count": null,
      "outputs": []
    },
    {
      "cell_type": "code",
      "source": [
        "print(median)"
      ],
      "metadata": {
        "colab": {
          "base_uri": "https://localhost:8080/"
        },
        "id": "zag-GLtxGJgp",
        "outputId": "e2f2b95d-dc8f-4c49-b4a2-6247fd82fde8"
      },
      "execution_count": null,
      "outputs": [
        {
          "output_type": "stream",
          "name": "stdout",
          "text": [
            "30.0\n"
          ]
        }
      ]
    },
    {
      "cell_type": "code",
      "source": [
        "print(mode)"
      ],
      "metadata": {
        "colab": {
          "base_uri": "https://localhost:8080/"
        },
        "id": "sM9dm3c1GMuM",
        "outputId": "d287ad82-5da9-42f4-db00-b26c2fb6b5f8"
      },
      "execution_count": null,
      "outputs": [
        {
          "output_type": "stream",
          "name": "stdout",
          "text": [
            "10\n"
          ]
        }
      ]
    },
    {
      "cell_type": "code",
      "source": [
        "class_intervals = [(0, 10), (10, 20), (20, 30), (30, 40),\n",
        "(40, 50)]\n",
        "frequencies = [4, 6, 10, 8, 2]\n",
        "df = pd.DataFrame({'Class': class_intervals, 'Frequency':\n",
        "frequencies})\n",
        "df['Cumulative Frequency'] = df['Frequency'].cumsum()\n",
        "median = np.median(df['Class'])\n"
      ],
      "metadata": {
        "id": "w64I7em1K3Pm"
      },
      "execution_count": null,
      "outputs": []
    },
    {
      "cell_type": "code",
      "source": [
        "print(median)"
      ],
      "metadata": {
        "colab": {
          "base_uri": "https://localhost:8080/"
        },
        "id": "IAFTGjiMLy6f",
        "outputId": "5a436bf8-c494-4f4c-85cc-6a32e9878688"
      },
      "execution_count": null,
      "outputs": [
        {
          "output_type": "stream",
          "name": "stdout",
          "text": [
            "[20. 30.]\n"
          ]
        }
      ]
    }
  ]
}