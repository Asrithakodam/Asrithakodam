{
  "nbformat": 4,
  "nbformat_minor": 0,
  "metadata": {
    "colab": {
      "provenance": [],
      "include_colab_link": true
    },
    "kernelspec": {
      "name": "python3",
      "display_name": "Python 3"
    },
    "language_info": {
      "name": "python"
    }
  },
  "cells": [
    {
      "cell_type": "markdown",
      "metadata": {
        "id": "view-in-github",
        "colab_type": "text"
      },
      "source": [
        "<a href=\"https://colab.research.google.com/github/Asrithakodam/Asrithakodam/blob/main/Lab_01PnS(1288).ipynb\" target=\"_parent\"><img src=\"https://colab.research.google.com/assets/colab-badge.svg\" alt=\"Open In Colab\"/></a>"
      ]
    },
    {
      "cell_type": "code",
      "execution_count": null,
      "metadata": {
        "id": "p9kh_k6J1Hpj"
      },
      "outputs": [],
      "source": [
        "import numpy as np"
      ]
    },
    {
      "cell_type": "code",
      "source": [
        "a=[1,2,34,6,32,14,65,7]\n",
        "arr=np.array(a)\n",
        "print(arr)"
      ],
      "metadata": {
        "colab": {
          "base_uri": "https://localhost:8080/"
        },
        "id": "uUS2Bqyl1W7m",
        "outputId": "e4dc4c2b-0132-4b80-ec15-fb7dd28353b6"
      },
      "execution_count": null,
      "outputs": [
        {
          "output_type": "stream",
          "name": "stdout",
          "text": [
            "[ 1  2 34  6 32 14 65  7]\n"
          ]
        }
      ]
    },
    {
      "cell_type": "code",
      "source": [
        "arr=np.array([1,2,34,6,32,14,65,7])\n",
        "print(arr)"
      ],
      "metadata": {
        "colab": {
          "base_uri": "https://localhost:8080/"
        },
        "id": "h4iD-cMc10te",
        "outputId": "3e5c6dd1-630c-4e90-ffc2-d564d98ed2a7"
      },
      "execution_count": null,
      "outputs": [
        {
          "output_type": "stream",
          "name": "stdout",
          "text": [
            "[ 1  2 34  6 32 14 65  7]\n"
          ]
        }
      ]
    },
    {
      "cell_type": "code",
      "source": [
        "print(arr[0])\n",
        "print(arr[2])"
      ],
      "metadata": {
        "colab": {
          "base_uri": "https://localhost:8080/"
        },
        "id": "Z6Tkm8GK1-NX",
        "outputId": "76865491-d3b5-4b49-dd19-c0d709017804"
      },
      "execution_count": null,
      "outputs": [
        {
          "output_type": "stream",
          "name": "stdout",
          "text": [
            "1\n",
            "34\n"
          ]
        }
      ]
    },
    {
      "cell_type": "code",
      "source": [
        "aa=[[1,2,3,4],[4,2,3,6]]\n",
        "A=np.array(aa)\n",
        "print(A)"
      ],
      "metadata": {
        "colab": {
          "base_uri": "https://localhost:8080/"
        },
        "id": "55iK5yEm2J_x",
        "outputId": "3f58b66f-60d8-4f75-fde9-d00c570ab3a1"
      },
      "execution_count": null,
      "outputs": [
        {
          "output_type": "stream",
          "name": "stdout",
          "text": [
            "[[1 2 3 4]\n",
            " [4 2 3 6]]\n"
          ]
        }
      ]
    },
    {
      "cell_type": "code",
      "source": [
        "A=np.array([[1,2,3,4],[4,2,3,6]])\n",
        "print(A)"
      ],
      "metadata": {
        "colab": {
          "base_uri": "https://localhost:8080/"
        },
        "id": "WstQINAg2eyH",
        "outputId": "35568b16-f3fe-4023-8622-b3a8c1ac921e"
      },
      "execution_count": null,
      "outputs": [
        {
          "output_type": "stream",
          "name": "stdout",
          "text": [
            "[[1 2 3 4]\n",
            " [4 2 3 6]]\n"
          ]
        }
      ]
    },
    {
      "cell_type": "code",
      "source": [
        "print(type(A))"
      ],
      "metadata": {
        "colab": {
          "base_uri": "https://localhost:8080/"
        },
        "id": "xRSXZCM42uDg",
        "outputId": "07fec734-bccc-4609-fe24-66b4142dd7fc"
      },
      "execution_count": null,
      "outputs": [
        {
          "output_type": "stream",
          "name": "stdout",
          "text": [
            "<class 'numpy.ndarray'>\n"
          ]
        }
      ]
    },
    {
      "cell_type": "code",
      "source": [
        "print(type(arr))"
      ],
      "metadata": {
        "colab": {
          "base_uri": "https://localhost:8080/"
        },
        "id": "Sh8oll542z0y",
        "outputId": "22ad928c-21da-4552-85a6-0ec8d21c5788"
      },
      "execution_count": null,
      "outputs": [
        {
          "output_type": "stream",
          "name": "stdout",
          "text": [
            "<class 'numpy.ndarray'>\n"
          ]
        }
      ]
    },
    {
      "cell_type": "code",
      "source": [
        "np.ndim(arr)"
      ],
      "metadata": {
        "colab": {
          "base_uri": "https://localhost:8080/"
        },
        "id": "OrqlzzmQ24R7",
        "outputId": "22006642-d2e1-479a-c86c-51a46cb0d284"
      },
      "execution_count": null,
      "outputs": [
        {
          "output_type": "execute_result",
          "data": {
            "text/plain": [
              "1"
            ]
          },
          "metadata": {},
          "execution_count": 10
        }
      ]
    },
    {
      "cell_type": "code",
      "source": [
        "np.ndim(A)"
      ],
      "metadata": {
        "colab": {
          "base_uri": "https://localhost:8080/"
        },
        "id": "Hy_sfQWK27sv",
        "outputId": "168c7f34-1cea-4ed2-a67e-935f2245992d"
      },
      "execution_count": null,
      "outputs": [
        {
          "output_type": "execute_result",
          "data": {
            "text/plain": [
              "2"
            ]
          },
          "metadata": {},
          "execution_count": 11
        }
      ]
    },
    {
      "cell_type": "code",
      "source": [
        "print(np.size(arr))"
      ],
      "metadata": {
        "colab": {
          "base_uri": "https://localhost:8080/"
        },
        "id": "Gcwcm6aN3Anr",
        "outputId": "a18b677c-131e-42f6-c76d-37af27504145"
      },
      "execution_count": null,
      "outputs": [
        {
          "output_type": "stream",
          "name": "stdout",
          "text": [
            "8\n"
          ]
        }
      ]
    },
    {
      "cell_type": "code",
      "source": [
        "print(np.size(A))"
      ],
      "metadata": {
        "colab": {
          "base_uri": "https://localhost:8080/"
        },
        "id": "T8GdY5HN3HLQ",
        "outputId": "7e357a26-e721-469d-959b-3893aec1a1e6"
      },
      "execution_count": null,
      "outputs": [
        {
          "output_type": "stream",
          "name": "stdout",
          "text": [
            "8\n"
          ]
        }
      ]
    },
    {
      "cell_type": "code",
      "source": [
        "print(np.shape(arr))"
      ],
      "metadata": {
        "colab": {
          "base_uri": "https://localhost:8080/"
        },
        "id": "5lspxGzD3NQH",
        "outputId": "ebbe4c2f-1e1e-4523-d1f4-f1d33a382f77"
      },
      "execution_count": null,
      "outputs": [
        {
          "output_type": "stream",
          "name": "stdout",
          "text": [
            "(8,)\n"
          ]
        }
      ]
    },
    {
      "cell_type": "code",
      "source": [
        "print(np.shape(A))"
      ],
      "metadata": {
        "colab": {
          "base_uri": "https://localhost:8080/"
        },
        "id": "5PDVy_nk3SYo",
        "outputId": "6dcd6e15-ee29-42b3-881b-5eef842f43bb"
      },
      "execution_count": null,
      "outputs": [
        {
          "output_type": "stream",
          "name": "stdout",
          "text": [
            "(2, 4)\n"
          ]
        }
      ]
    },
    {
      "cell_type": "code",
      "source": [
        "A=np.array([[1,2,3],[3,4,5],[4,5,6]])\n",
        "print(A)"
      ],
      "metadata": {
        "colab": {
          "base_uri": "https://localhost:8080/"
        },
        "id": "fYYiwsl_3W8K",
        "outputId": "3bd6a673-441b-4dbb-ce8f-105cf8c181b9"
      },
      "execution_count": null,
      "outputs": [
        {
          "output_type": "stream",
          "name": "stdout",
          "text": [
            "[[1 2 3]\n",
            " [3 4 5]\n",
            " [4 5 6]]\n"
          ]
        }
      ]
    },
    {
      "cell_type": "code",
      "source": [
        "print(A[0,:])\n",
        "print(A[1,:])\n",
        "print(A[2,:])"
      ],
      "metadata": {
        "colab": {
          "base_uri": "https://localhost:8080/"
        },
        "id": "qDyQB5fh3ljZ",
        "outputId": "c1e28967-3f5e-43ca-fb7c-71045240e313"
      },
      "execution_count": null,
      "outputs": [
        {
          "output_type": "stream",
          "name": "stdout",
          "text": [
            "[1 2 3]\n",
            "[3 4 5]\n",
            "[4 5 6]\n"
          ]
        }
      ]
    },
    {
      "cell_type": "code",
      "source": [
        "print(A[:,0])\n",
        "print(A[:,1])\n",
        "print(A[:,2])"
      ],
      "metadata": {
        "colab": {
          "base_uri": "https://localhost:8080/"
        },
        "id": "t7VAtj8C3zT3",
        "outputId": "c89da4db-13ce-47e3-c44e-ddef34a0d5fc"
      },
      "execution_count": null,
      "outputs": [
        {
          "output_type": "stream",
          "name": "stdout",
          "text": [
            "[1 3 4]\n",
            "[2 4 5]\n",
            "[3 5 6]\n"
          ]
        }
      ]
    },
    {
      "cell_type": "code",
      "source": [
        "print(A[2,1])"
      ],
      "metadata": {
        "colab": {
          "base_uri": "https://localhost:8080/"
        },
        "id": "riIg-uzg32KJ",
        "outputId": "c006cf0f-7651-4635-fa2d-3c5a5a7bbf78"
      },
      "execution_count": null,
      "outputs": [
        {
          "output_type": "stream",
          "name": "stdout",
          "text": [
            "5\n"
          ]
        }
      ]
    },
    {
      "cell_type": "code",
      "source": [
        "import pandas as pd"
      ],
      "metadata": {
        "id": "OTqUwpQH4G1B"
      },
      "execution_count": null,
      "outputs": []
    },
    {
      "cell_type": "code",
      "source": [
        "Dataset={\n",
        "\"State\": ['Andhra Pradesh', 'Maharashtra', 'Karnataka', 'Kerala', 'Tamil Nadu'],\n",
        "\"Capital\": ['Hyderabad', 'Mumbai', 'Bengaluru', 'Trivandrum', 'Chennai'],\n",
        "\"Literacy %\": [89, 77, 82, 97,85],\n",
        "\"Avg High Temp(c)\": [33, 30, 29, 31, 32 ]}\n",
        "print(Dataset)"
      ],
      "metadata": {
        "colab": {
          "base_uri": "https://localhost:8080/"
        },
        "id": "wieEQ9YZ4a12",
        "outputId": "57e056bd-6237-40af-c69c-dcdc3aa08552"
      },
      "execution_count": null,
      "outputs": [
        {
          "output_type": "stream",
          "name": "stdout",
          "text": [
            "{'State': ['Andhra Pradesh', 'Maharashtra', 'Karnataka', 'Kerala', 'Tamil Nadu'], 'Capital': ['Hyderabad', 'Mumbai', 'Bengaluru', 'Trivandrum', 'Chennai'], 'Literacy %': [89, 77, 82, 97, 85], 'Avg High Temp(c)': [33, 30, 29, 31, 32]}\n"
          ]
        }
      ]
    },
    {
      "cell_type": "code",
      "source": [
        "df=pd.DataFrame(Dataset)\n",
        "print(df)"
      ],
      "metadata": {
        "colab": {
          "base_uri": "https://localhost:8080/"
        },
        "id": "kdIQTuj15Zvy",
        "outputId": "1a069d7b-51cf-4a83-e0fd-b37df98ad2b0"
      },
      "execution_count": null,
      "outputs": [
        {
          "output_type": "stream",
          "name": "stdout",
          "text": [
            "            State     Capital  Literacy %  Avg High Temp(c)\n",
            "0  Andhra Pradesh   Hyderabad          89                33\n",
            "1     Maharashtra      Mumbai          77                30\n",
            "2       Karnataka   Bengaluru          82                29\n",
            "3          Kerala  Trivandrum          97                31\n",
            "4      Tamil Nadu     Chennai          85                32\n"
          ]
        }
      ]
    },
    {
      "cell_type": "code",
      "source": [
        "df=pd.DataFrame({\n",
        "    \"State\": ['Andhra Pradesh','Maharashtra','Karnataka','Kerala','Tamil Nadu'],\n",
        "    \"Capital\": ['Hyderabad', 'Mumbai', 'Bengaluru', 'Trivandrum', 'Chennai'],\n",
        "    \"Literacy %\": [89,77,82,97,85],\n",
        "    \"Avg High Temp(c)\": [33,30,29,31,32]\n",
        "})\n",
        "print(df)\n"
      ],
      "metadata": {
        "colab": {
          "base_uri": "https://localhost:8080/"
        },
        "id": "VWFvrHau5hT3",
        "outputId": "38540e75-aae5-44ce-8de6-3cc2f1266c85"
      },
      "execution_count": null,
      "outputs": [
        {
          "output_type": "stream",
          "name": "stdout",
          "text": [
            "            State     Capital  Literacy %  Avg High Temp(c)\n",
            "0  Andhra Pradesh   Hyderabad          89                33\n",
            "1     Maharashtra      Mumbai          77                30\n",
            "2       Karnataka   Bengaluru          82                29\n",
            "3          Kerala  Trivandrum          97                31\n",
            "4      Tamil Nadu     Chennai          85                32\n"
          ]
        }
      ]
    },
    {
      "cell_type": "code",
      "source": [
        "print(df.head(2))"
      ],
      "metadata": {
        "colab": {
          "base_uri": "https://localhost:8080/"
        },
        "id": "9cHY8J586xCE",
        "outputId": "c572238d-a914-420c-a2c1-f4e4213b7896"
      },
      "execution_count": null,
      "outputs": [
        {
          "output_type": "stream",
          "name": "stdout",
          "text": [
            "            State    Capital  Literacy %  Avg High Temp(c)\n",
            "0  Andhra Pradesh  Hyderabad          89                33\n",
            "1     Maharashtra     Mumbai          77                30\n"
          ]
        }
      ]
    },
    {
      "cell_type": "code",
      "source": [
        "print(df.tail(3))"
      ],
      "metadata": {
        "colab": {
          "base_uri": "https://localhost:8080/"
        },
        "id": "9aI58jJI62Fy",
        "outputId": "f45a00c5-ece2-4651-a10e-2044ed3e2b7d"
      },
      "execution_count": null,
      "outputs": [
        {
          "output_type": "stream",
          "name": "stdout",
          "text": [
            "        State     Capital  Literacy %  Avg High Temp(c)\n",
            "2   Karnataka   Bengaluru          82                29\n",
            "3      Kerala  Trivandrum          97                31\n",
            "4  Tamil Nadu     Chennai          85                32\n"
          ]
        }
      ]
    },
    {
      "cell_type": "code",
      "source": [
        "print(df.dtypes)"
      ],
      "metadata": {
        "colab": {
          "base_uri": "https://localhost:8080/"
        },
        "id": "fId0l0Wd664k",
        "outputId": "4c670dff-8011-4695-ad42-c4e2fcc0f705"
      },
      "execution_count": null,
      "outputs": [
        {
          "output_type": "stream",
          "name": "stdout",
          "text": [
            "State               object\n",
            "Capital             object\n",
            "Literacy %           int64\n",
            "Avg High Temp(c)     int64\n",
            "dtype: object\n"
          ]
        }
      ]
    },
    {
      "cell_type": "code",
      "source": [
        "print(df.sort_values('Literacy %',ascending=False))"
      ],
      "metadata": {
        "colab": {
          "base_uri": "https://localhost:8080/"
        },
        "id": "TaLVa7637B6K",
        "outputId": "c7dd453e-df39-4051-af9b-707078954774"
      },
      "execution_count": null,
      "outputs": [
        {
          "output_type": "stream",
          "name": "stdout",
          "text": [
            "            State     Capital  Literacy %  Avg High Temp(c)\n",
            "3          Kerala  Trivandrum          97                31\n",
            "0  Andhra Pradesh   Hyderabad          89                33\n",
            "4      Tamil Nadu     Chennai          85                32\n",
            "2       Karnataka   Bengaluru          82                29\n",
            "1     Maharashtra      Mumbai          77                30\n"
          ]
        }
      ]
    },
    {
      "cell_type": "code",
      "source": [
        "print(df[['Capital']])"
      ],
      "metadata": {
        "colab": {
          "base_uri": "https://localhost:8080/"
        },
        "id": "yJ3yAEHg8C-k",
        "outputId": "3c7ad642-1669-4dab-900d-f4b8c08a9376"
      },
      "execution_count": null,
      "outputs": [
        {
          "output_type": "stream",
          "name": "stdout",
          "text": [
            "      Capital\n",
            "0   Hyderabad\n",
            "1      Mumbai\n",
            "2   Bengaluru\n",
            "3  Trivandrum\n",
            "4     Chennai\n"
          ]
        }
      ]
    },
    {
      "cell_type": "code",
      "source": [
        "print(df[['State', 'Capital']])"
      ],
      "metadata": {
        "colab": {
          "base_uri": "https://localhost:8080/"
        },
        "id": "ipKIsfN58LBH",
        "outputId": "cb8e2351-d5fe-4e38-83e5-e028ac302245"
      },
      "execution_count": null,
      "outputs": [
        {
          "output_type": "stream",
          "name": "stdout",
          "text": [
            "            State     Capital\n",
            "0  Andhra Pradesh   Hyderabad\n",
            "1     Maharashtra      Mumbai\n",
            "2       Karnataka   Bengaluru\n",
            "3          Kerala  Trivandrum\n",
            "4      Tamil Nadu     Chennai\n"
          ]
        }
      ]
    },
    {
      "cell_type": "code",
      "source": [
        "print(df.loc[2])"
      ],
      "metadata": {
        "colab": {
          "base_uri": "https://localhost:8080/"
        },
        "id": "D8tYTqoC8Yw-",
        "outputId": "1daa7a9e-4cbb-4170-8292-6634fdc9febf"
      },
      "execution_count": null,
      "outputs": [
        {
          "output_type": "stream",
          "name": "stdout",
          "text": [
            "State               Karnataka\n",
            "Capital             Bengaluru\n",
            "Literacy %                 82\n",
            "Avg High Temp(c)           29\n",
            "Name: 2, dtype: object\n"
          ]
        }
      ]
    },
    {
      "cell_type": "code",
      "source": [
        "print(df.iloc[2])"
      ],
      "metadata": {
        "colab": {
          "base_uri": "https://localhost:8080/"
        },
        "id": "Y0t1urfk8emj",
        "outputId": "e388a4cc-c08e-456d-d467-c141f0f78e33"
      },
      "execution_count": null,
      "outputs": [
        {
          "output_type": "stream",
          "name": "stdout",
          "text": [
            "State               Karnataka\n",
            "Capital             Bengaluru\n",
            "Literacy %                 82\n",
            "Avg High Temp(c)           29\n",
            "Name: 2, dtype: object\n"
          ]
        }
      ]
    },
    {
      "cell_type": "code",
      "source": [
        "print(df.iloc[1,2])"
      ],
      "metadata": {
        "colab": {
          "base_uri": "https://localhost:8080/"
        },
        "id": "u6hqvQiz8jjZ",
        "outputId": "6bd95f0f-392f-4550-946a-9a21a94008c3"
      },
      "execution_count": null,
      "outputs": [
        {
          "output_type": "stream",
          "name": "stdout",
          "text": [
            "77\n"
          ]
        }
      ]
    },
    {
      "cell_type": "code",
      "source": [
        "print(df.loc[1,'Literacy %'])"
      ],
      "metadata": {
        "colab": {
          "base_uri": "https://localhost:8080/"
        },
        "id": "4Z1i83x68o_c",
        "outputId": "5a3b052e-7acc-4d36-e3ce-6dc37d72f30b"
      },
      "execution_count": null,
      "outputs": [
        {
          "output_type": "stream",
          "name": "stdout",
          "text": [
            "77\n"
          ]
        }
      ]
    },
    {
      "cell_type": "code",
      "source": [
        "a={\"Distance\":[15, 13, 16, 16, 15, 16, 17, 14, 15, 16, 16,17, 14, 17, 17, 16, 14, 15, 16, 17, 14, 16, 15, 17, 1]}"
      ],
      "metadata": {
        "id": "bfu7eY7u8vid"
      },
      "execution_count": null,
      "outputs": []
    }
  ]
}